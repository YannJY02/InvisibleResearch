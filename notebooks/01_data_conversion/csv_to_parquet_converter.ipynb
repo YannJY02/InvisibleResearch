{
 "cells": [
  {
   "cell_type": "markdown",
   "metadata": {},
   "source": [
    "# 🔄 High-Performance CSV to Parquet Converter\n",
    "\n",
    "## 📋 Project Background\n",
    "\n",
    "This notebook implements high-performance conversion of a 15GB academic paper metadata CSV file from the **InvisibleResearch project** into Parquet format to enhance subsequent data processing performance.\n",
    "\n",
    "### 🎯 Conversion Objectives\n",
    "- **Source File**: `articleInfo.csv` (15GB, ~15-20 million records)\n",
    "- **Target Format**: Parquet (expected 3-5GB, Snappy compression)\n",
    "- **Performance Optimization**: Streaming processing, memory management, parallelization\n",
    "- **Data Integrity**: Ensure data completeness throughout the conversion process\n",
    "\n",
    "### 📊 Data Field Structure\n",
    "```\n",
    "id, context_id, publish_date, publisher1, title1, title2, \n",
    "authors, year, identifier1, identifier2, identifier3, \n",
    "source1, source2, source3, yearOnly, globalIdentifier\n",
    "```\n",
    "\n",
    "---\n"
   ]
  },
  {
   "cell_type": "markdown",
   "metadata": {},
   "source": [
    "## ⚙️ Environment Setup & Dependencies\n"
   ]
  },
  {
   "cell_type": "code",
   "execution_count": 1,
   "metadata": {
    "execution": {
     "iopub.execute_input": "2025-09-05T08:02:24.274799Z",
     "iopub.status.busy": "2025-09-05T08:02:24.274687Z",
     "iopub.status.idle": "2025-09-05T08:02:24.856632Z",
     "shell.execute_reply": "2025-09-05T08:02:24.856250Z"
    }
   },
   "outputs": [
    {
     "name": "stdout",
     "output_type": "stream",
     "text": [
      "✅ All dependencies imported successfully\n",
      "📦 Pandas version: 2.2.3\n",
      "🏹 PyArrow version: 21.0.0\n"
     ]
    }
   ],
   "source": [
    "# Core data processing libraries\n",
    "import pandas as pd\n",
    "import pyarrow as pa\n",
    "import pyarrow.parquet as pq\n",
    "import numpy as np\n",
    "\n",
    "# System and file operations\n",
    "import os\n",
    "import time\n",
    "from pathlib import Path\n",
    "import gc\n",
    "\n",
    "# Progress display and logging\n",
    "from tqdm.notebook import tqdm\n",
    "import warnings\n",
    "warnings.filterwarnings('ignore')\n",
    "\n",
    "print(\"✅ All dependencies imported successfully\")\n",
    "print(f\"📦 Pandas version: {pd.__version__}\")\n",
    "print(f\"🏹 PyArrow version: {pa.__version__}\")\n"
   ]
  },
  {
   "cell_type": "markdown",
   "metadata": {},
   "source": [
    "## 📁 File Path Configuration\n"
   ]
  },
  {
   "cell_type": "code",
   "execution_count": 2,
   "metadata": {
    "execution": {
     "iopub.execute_input": "2025-09-05T08:02:24.877325Z",
     "iopub.status.busy": "2025-09-05T08:02:24.877088Z",
     "iopub.status.idle": "2025-09-05T08:02:24.880633Z",
     "shell.execute_reply": "2025-09-05T08:02:24.880219Z"
    }
   },
   "outputs": [
    {
     "name": "stdout",
     "output_type": "stream",
     "text": [
      "📂 Project root directory: /Users/yann.jy/InvisibleResearch\n",
      "📄 Source CSV file: /Users/yann.jy/InvisibleResearch/data/raw/articleInfo.csv\n",
      "💾 Target Parquet file: /Users/yann.jy/InvisibleResearch/data/processed/articleInfo.parquet\n",
      "📊 Source file size: 14.22 GB\n",
      "\n",
      "✅ File path configuration completed\n"
     ]
    }
   ],
   "source": [
    "# Project root directory\n",
    "PROJECT_ROOT = Path(os.getcwd()).parent.parent\n",
    "print(f\"📂 Project root directory: {PROJECT_ROOT}\")\n",
    "\n",
    "# Input file path\n",
    "INPUT_CSV = PROJECT_ROOT / \"data/raw/articleInfo.csv\"\n",
    "print(f\"📄 Source CSV file: {INPUT_CSV}\")\n",
    "\n",
    "# Output file path\n",
    "OUTPUT_DIR = PROJECT_ROOT / \"data/processed\"\n",
    "OUTPUT_DIR.mkdir(parents=True, exist_ok=True)\n",
    "OUTPUT_PARQUET = OUTPUT_DIR / \"articleInfo.parquet\"\n",
    "print(f\"💾 Target Parquet file: {OUTPUT_PARQUET}\")\n",
    "\n",
    "# Verify input file exists\n",
    "if not INPUT_CSV.exists():\n",
    "    raise FileNotFoundError(f\"❌ Source file does not exist: {INPUT_CSV}\")\n",
    "    \n",
    "# Display file size\n",
    "file_size_gb = INPUT_CSV.stat().st_size / (1024**3)\n",
    "print(f\"📊 Source file size: {file_size_gb:.2f} GB\")\n",
    "print(\"\\n✅ File path configuration completed\")\n"
   ]
  },
  {
   "cell_type": "markdown",
   "metadata": {},
   "source": [
    "## 🔍 Data Exploration & Structure Analysis\n"
   ]
  },
  {
   "cell_type": "code",
   "execution_count": 3,
   "metadata": {
    "execution": {
     "iopub.execute_input": "2025-09-05T08:02:24.882444Z",
     "iopub.status.busy": "2025-09-05T08:02:24.882307Z",
     "iopub.status.idle": "2025-09-05T08:02:24.903192Z",
     "shell.execute_reply": "2025-09-05T08:02:24.902899Z"
    }
   },
   "outputs": [
    {
     "name": "stdout",
     "output_type": "stream",
     "text": [
      "🔍 Analyzing data structure...\n",
      "📊 Data dimensions: (5, 16)\n",
      "📋 Column names: ['id', 'context_id', 'publish_date', 'publisher1', 'title1', 'title2', 'authors', 'year', 'identifier1', 'identifier2', 'identifier3', 'source1', 'source2', 'source3', 'yearOnly', 'globalIdentifier']\n",
      "\n",
      "📖 Sample data:\n"
     ]
    },
    {
     "data": {
      "text/html": [
       "<div>\n",
       "<style scoped>\n",
       "    .dataframe tbody tr th:only-of-type {\n",
       "        vertical-align: middle;\n",
       "    }\n",
       "\n",
       "    .dataframe tbody tr th {\n",
       "        vertical-align: top;\n",
       "    }\n",
       "\n",
       "    .dataframe thead th {\n",
       "        text-align: right;\n",
       "    }\n",
       "</style>\n",
       "<table border=\"1\" class=\"dataframe\">\n",
       "  <thead>\n",
       "    <tr style=\"text-align: right;\">\n",
       "      <th></th>\n",
       "      <th>id</th>\n",
       "      <th>context_id</th>\n",
       "      <th>publish_date</th>\n",
       "      <th>publisher1</th>\n",
       "      <th>title1</th>\n",
       "      <th>title2</th>\n",
       "      <th>authors</th>\n",
       "      <th>year</th>\n",
       "      <th>identifier1</th>\n",
       "      <th>identifier2</th>\n",
       "      <th>identifier3</th>\n",
       "      <th>source1</th>\n",
       "      <th>source2</th>\n",
       "      <th>source3</th>\n",
       "      <th>yearOnly</th>\n",
       "      <th>globalIdentifier</th>\n",
       "    </tr>\n",
       "  </thead>\n",
       "  <tbody>\n",
       "    <tr>\n",
       "      <th>0</th>\n",
       "      <td>1</td>\n",
       "      <td>163757</td>\n",
       "      <td>2021-03-25</td>\n",
       "      <td>Universitas Islam Bandung</td>\n",
       "      <td>SPIRITUALITAS MASYARAKAT PERKOTAAN</td>\n",
       "      <td>\\N</td>\n",
       "      <td>Afidah, Ida</td>\n",
       "      <td>2021-03-25</td>\n",
       "      <td>https://ejournal.unisba.ac.id/index.php/hikmah...</td>\n",
       "      <td>10.29313/hikmah.v1i1.7649</td>\n",
       "      <td>\\N</td>\n",
       "      <td>HIKMAH : Jurnal Dakwah &amp;amp; Sosial; Vol 1, No...</td>\n",
       "      <td>2776-7302</td>\n",
       "      <td>1412-0453</td>\n",
       "      <td>2021</td>\n",
       "      <td>\\N</td>\n",
       "    </tr>\n",
       "    <tr>\n",
       "      <th>1</th>\n",
       "      <td>3</td>\n",
       "      <td>163757</td>\n",
       "      <td>2021-03-25</td>\n",
       "      <td>Universitas Islam Bandung</td>\n",
       "      <td>NABI ZAKARIA AS. DAN SITI MARYAM AS. FIGUR MAN...</td>\n",
       "      <td>\\N</td>\n",
       "      <td>Rodliyah, Rodliyah</td>\n",
       "      <td>2021-03-25</td>\n",
       "      <td>https://ejournal.unisba.ac.id/index.php/hikmah...</td>\n",
       "      <td>10.29313/hikmah.v1i1.7575</td>\n",
       "      <td>\\N</td>\n",
       "      <td>HIKMAH : Jurnal Dakwah &amp;amp; Sosial; Vol 1, No...</td>\n",
       "      <td>2776-7302</td>\n",
       "      <td>1412-0453</td>\n",
       "      <td>2021</td>\n",
       "      <td>\\N</td>\n",
       "    </tr>\n",
       "    <tr>\n",
       "      <th>2</th>\n",
       "      <td>5</td>\n",
       "      <td>163757</td>\n",
       "      <td>2021-03-25</td>\n",
       "      <td>Universitas Islam Bandung</td>\n",
       "      <td>Al-HIKMAH DALAM DAKWAH ISLAMIYAH (Metode-Syara...</td>\n",
       "      <td>\\N</td>\n",
       "      <td>syam, nia kurniati</td>\n",
       "      <td>2021-03-25</td>\n",
       "      <td>https://ejournal.unisba.ac.id/index.php/hikmah...</td>\n",
       "      <td>10.29313/hikmah.v1i1.7577</td>\n",
       "      <td>\\N</td>\n",
       "      <td>HIKMAH : Jurnal Dakwah &amp;amp; Sosial; Vol 1, No...</td>\n",
       "      <td>2776-7302</td>\n",
       "      <td>1412-0453</td>\n",
       "      <td>2021</td>\n",
       "      <td>\\N</td>\n",
       "    </tr>\n",
       "    <tr>\n",
       "      <th>3</th>\n",
       "      <td>7</td>\n",
       "      <td>163757</td>\n",
       "      <td>2021-03-25</td>\n",
       "      <td>Universitas Islam Bandung</td>\n",
       "      <td>PERAN MEDIA DALAM PENYELESIAN KONFLIK SOSIAL</td>\n",
       "      <td>\\N</td>\n",
       "      <td>HMZ, Nandang</td>\n",
       "      <td>2021-03-25</td>\n",
       "      <td>https://ejournal.unisba.ac.id/index.php/hikmah...</td>\n",
       "      <td>10.29313/hikmah.v1i1.7578</td>\n",
       "      <td>\\N</td>\n",
       "      <td>HIKMAH : Jurnal Dakwah &amp;amp; Sosial; Vol 1, No...</td>\n",
       "      <td>2776-7302</td>\n",
       "      <td>1412-0453</td>\n",
       "      <td>2021</td>\n",
       "      <td>\\N</td>\n",
       "    </tr>\n",
       "    <tr>\n",
       "      <th>4</th>\n",
       "      <td>9</td>\n",
       "      <td>163757</td>\n",
       "      <td>2021-03-25</td>\n",
       "      <td>Universitas Islam Bandung</td>\n",
       "      <td>ANALISIS KINERJA PENGELOLAAN ZAKAT INFAK BAITU...</td>\n",
       "      <td>\\N</td>\n",
       "      <td>Kamil, Parihat</td>\n",
       "      <td>2021-03-25</td>\n",
       "      <td>https://ejournal.unisba.ac.id/index.php/hikmah...</td>\n",
       "      <td>10.29313/hikmah.v1i1.7633</td>\n",
       "      <td>\\N</td>\n",
       "      <td>HIKMAH : Jurnal Dakwah &amp;amp; Sosial; Vol 1, No...</td>\n",
       "      <td>2776-7302</td>\n",
       "      <td>1412-0453</td>\n",
       "      <td>2021</td>\n",
       "      <td>\\N</td>\n",
       "    </tr>\n",
       "  </tbody>\n",
       "</table>\n",
       "</div>"
      ],
      "text/plain": [
       "   id  context_id publish_date                 publisher1  \\\n",
       "0   1      163757   2021-03-25  Universitas Islam Bandung   \n",
       "1   3      163757   2021-03-25  Universitas Islam Bandung   \n",
       "2   5      163757   2021-03-25  Universitas Islam Bandung   \n",
       "3   7      163757   2021-03-25  Universitas Islam Bandung   \n",
       "4   9      163757   2021-03-25  Universitas Islam Bandung   \n",
       "\n",
       "                                              title1 title2  \\\n",
       "0                 SPIRITUALITAS MASYARAKAT PERKOTAAN     \\N   \n",
       "1  NABI ZAKARIA AS. DAN SITI MARYAM AS. FIGUR MAN...     \\N   \n",
       "2  Al-HIKMAH DALAM DAKWAH ISLAMIYAH (Metode-Syara...     \\N   \n",
       "3       PERAN MEDIA DALAM PENYELESIAN KONFLIK SOSIAL     \\N   \n",
       "4  ANALISIS KINERJA PENGELOLAAN ZAKAT INFAK BAITU...     \\N   \n",
       "\n",
       "              authors        year  \\\n",
       "0         Afidah, Ida  2021-03-25   \n",
       "1  Rodliyah, Rodliyah  2021-03-25   \n",
       "2  syam, nia kurniati  2021-03-25   \n",
       "3        HMZ, Nandang  2021-03-25   \n",
       "4      Kamil, Parihat  2021-03-25   \n",
       "\n",
       "                                         identifier1  \\\n",
       "0  https://ejournal.unisba.ac.id/index.php/hikmah...   \n",
       "1  https://ejournal.unisba.ac.id/index.php/hikmah...   \n",
       "2  https://ejournal.unisba.ac.id/index.php/hikmah...   \n",
       "3  https://ejournal.unisba.ac.id/index.php/hikmah...   \n",
       "4  https://ejournal.unisba.ac.id/index.php/hikmah...   \n",
       "\n",
       "                 identifier2 identifier3  \\\n",
       "0  10.29313/hikmah.v1i1.7649          \\N   \n",
       "1  10.29313/hikmah.v1i1.7575          \\N   \n",
       "2  10.29313/hikmah.v1i1.7577          \\N   \n",
       "3  10.29313/hikmah.v1i1.7578          \\N   \n",
       "4  10.29313/hikmah.v1i1.7633          \\N   \n",
       "\n",
       "                                             source1    source2    source3  \\\n",
       "0  HIKMAH : Jurnal Dakwah &amp; Sosial; Vol 1, No...  2776-7302  1412-0453   \n",
       "1  HIKMAH : Jurnal Dakwah &amp; Sosial; Vol 1, No...  2776-7302  1412-0453   \n",
       "2  HIKMAH : Jurnal Dakwah &amp; Sosial; Vol 1, No...  2776-7302  1412-0453   \n",
       "3  HIKMAH : Jurnal Dakwah &amp; Sosial; Vol 1, No...  2776-7302  1412-0453   \n",
       "4  HIKMAH : Jurnal Dakwah &amp; Sosial; Vol 1, No...  2776-7302  1412-0453   \n",
       "\n",
       "   yearOnly globalIdentifier  \n",
       "0      2021               \\N  \n",
       "1      2021               \\N  \n",
       "2      2021               \\N  \n",
       "3      2021               \\N  \n",
       "4      2021               \\N  "
      ]
     },
     "metadata": {},
     "output_type": "display_data"
    }
   ],
   "source": [
    "# Read file header for structure analysis\n",
    "print(\"🔍 Analyzing data structure...\")\n",
    "\n",
    "# Read first few rows to understand data structure\n",
    "sample_df = pd.read_csv(INPUT_CSV, nrows=5)\n",
    "print(f\"📊 Data dimensions: {sample_df.shape}\")\n",
    "print(f\"📋 Column names: {list(sample_df.columns)}\")\n",
    "\n",
    "print(\"\\n📖 Sample data:\")\n",
    "display(sample_df.head())\n"
   ]
  },
  {
   "cell_type": "code",
   "execution_count": 4,
   "metadata": {
    "execution": {
     "iopub.execute_input": "2025-09-05T08:02:24.904604Z",
     "iopub.status.busy": "2025-09-05T08:02:24.904486Z",
     "iopub.status.idle": "2025-09-05T08:02:24.910025Z",
     "shell.execute_reply": "2025-09-05T08:02:24.909771Z"
    }
   },
   "outputs": [
    {
     "name": "stdout",
     "output_type": "stream",
     "text": [
      "🔬 Data type analysis:\n",
      "id                   int64\n",
      "context_id           int64\n",
      "publish_date        object\n",
      "publisher1          object\n",
      "title1              object\n",
      "title2              object\n",
      "authors             object\n",
      "year                object\n",
      "identifier1         object\n",
      "identifier2         object\n",
      "identifier3         object\n",
      "source1             object\n",
      "source2             object\n",
      "source3             object\n",
      "yearOnly             int64\n",
      "globalIdentifier    object\n",
      "dtype: object\n",
      "\n",
      "🚫 Null value statistics:\n",
      "Series([], dtype: int64)\n",
      "\n",
      "⚠️ Checking \\N values:\n",
      "  title2: 5 \\N values\n",
      "  identifier3: 5 \\N values\n",
      "  globalIdentifier: 5 \\N values\n"
     ]
    }
   ],
   "source": [
    "# Data type analysis\n",
    "print(\"🔬 Data type analysis:\")\n",
    "print(sample_df.dtypes)\n",
    "\n",
    "print(\"\\n🚫 Null value statistics:\")\n",
    "null_counts = sample_df.isnull().sum()\n",
    "print(null_counts[null_counts > 0])\n",
    "\n",
    "# Check for \\N values (special NULL representation)\n",
    "print(\"\\n⚠️ Checking \\\\N values:\")\n",
    "for col in sample_df.columns:\n",
    "    n_count = (sample_df[col] == '\\\\N').sum()\n",
    "    if n_count > 0:\n",
    "        print(f\"  {col}: {n_count} \\\\N values\")\n"
   ]
  },
  {
   "cell_type": "markdown",
   "metadata": {},
   "source": [
    "## ⚡ Conversion Configuration & Optimization Parameters\n"
   ]
  },
  {
   "cell_type": "code",
   "execution_count": 5,
   "metadata": {
    "execution": {
     "iopub.execute_input": "2025-09-05T08:02:24.911432Z",
     "iopub.status.busy": "2025-09-05T08:02:24.911344Z",
     "iopub.status.idle": "2025-09-05T08:02:24.914137Z",
     "shell.execute_reply": "2025-09-05T08:02:24.913812Z"
    }
   },
   "outputs": [
    {
     "name": "stdout",
     "output_type": "stream",
     "text": [
      "⚙️ Conversion configuration:\n",
      "  📦 Batch size: 50,000 rows\n",
      "  🗜️ Compression algorithm: snappy\n",
      "  ✍️ Write batch size: 10,000 rows\n",
      "\n",
      "📈 Estimates:\n",
      "  🔢 Expected batch count: 284\n",
      "  ⏱️ Estimated time: 30-60 minutes\n",
      "  💾 Expected output size: 4.3-5.7 GB\n"
     ]
    }
   ],
   "source": [
    "# Conversion configuration parameters\n",
    "CHUNK_SIZE = 50_000  # Rows per processing batch (optimized for 15GB file)\n",
    "COMPRESSION = 'snappy'  # Compression algorithm\n",
    "WRITE_BATCH_SIZE = 10_000  # Write batch size\n",
    "\n",
    "print(f\"⚙️ Conversion configuration:\")\n",
    "print(f\"  📦 Batch size: {CHUNK_SIZE:,} rows\")\n",
    "print(f\"  🗜️ Compression algorithm: {COMPRESSION}\")\n",
    "print(f\"  ✍️ Write batch size: {WRITE_BATCH_SIZE:,} rows\")\n",
    "\n",
    "# Estimate processing time\n",
    "estimated_chunks = file_size_gb * 1000 // (CHUNK_SIZE / 1000)\n",
    "print(f\"\\n📈 Estimates:\")\n",
    "print(f\"  🔢 Expected batch count: {estimated_chunks:.0f}\")\n",
    "print(f\"  ⏱️ Estimated time: 30-60 minutes\")\n",
    "print(f\"  💾 Expected output size: {file_size_gb * 0.3:.1f}-{file_size_gb * 0.4:.1f} GB\")\n"
   ]
  },
  {
   "cell_type": "markdown",
   "metadata": {},
   "source": [
    "## 🚀 Core Conversion Functions\n"
   ]
  },
  {
   "cell_type": "code",
   "execution_count": 6,
   "metadata": {
    "execution": {
     "iopub.execute_input": "2025-09-05T08:02:24.915651Z",
     "iopub.status.busy": "2025-09-05T08:02:24.915524Z",
     "iopub.status.idle": "2025-09-05T08:02:24.919213Z",
     "shell.execute_reply": "2025-09-05T08:02:24.918847Z"
    }
   },
   "outputs": [
    {
     "name": "stdout",
     "output_type": "stream",
     "text": [
      "✅ Preprocessing function definition completed\n"
     ]
    }
   ],
   "source": [
    "def preprocess_chunk(df):\n",
    "    \"\"\"\n",
    "    Preprocess data chunk: handle null values and optimize data types\n",
    "    \"\"\"\n",
    "    # Convert \\N values to proper NaN\n",
    "    df = df.replace('\\\\N', pd.NA)\n",
    "    \n",
    "    # Data type optimization\n",
    "    # Integer column optimization\n",
    "    int_cols = ['id', 'context_id']\n",
    "    for col in int_cols:\n",
    "        if col in df.columns:\n",
    "            df[col] = pd.to_numeric(df[col], errors='coerce').astype('Int64')\n",
    "    \n",
    "    # Date column processing\n",
    "    date_cols = ['publish_date']\n",
    "    for col in date_cols:\n",
    "        if col in df.columns:\n",
    "            df[col] = pd.to_datetime(df[col], errors='coerce')\n",
    "    \n",
    "    # Year column optimization\n",
    "    if 'year' in df.columns:\n",
    "        df['year'] = pd.to_numeric(df['year'], errors='coerce').astype('Int16')\n",
    "    if 'yearOnly' in df.columns:\n",
    "        df['yearOnly'] = pd.to_numeric(df['yearOnly'], errors='coerce').astype('Int16')\n",
    "    \n",
    "    # String columns using PyArrow string type (more efficient)\n",
    "    string_cols = ['publisher1', 'title1', 'title2', 'authors', 'identifier1', \n",
    "                   'identifier2', 'identifier3', 'source1', 'source2', 'source3', \n",
    "                   'globalIdentifier']\n",
    "    for col in string_cols:\n",
    "        if col in df.columns:\n",
    "            df[col] = df[col].astype('string[pyarrow]')\n",
    "    \n",
    "    return df\n",
    "\n",
    "print(\"✅ Preprocessing function definition completed\")\n"
   ]
  },
  {
   "cell_type": "markdown",
   "metadata": {},
   "source": [
    "## 🔄 Execute Conversion Process\n"
   ]
  },
  {
   "cell_type": "code",
   "execution_count": 7,
   "metadata": {
    "execution": {
     "iopub.execute_input": "2025-09-05T08:02:24.920641Z",
     "iopub.status.busy": "2025-09-05T08:02:24.920549Z",
     "iopub.status.idle": "2025-09-05T08:02:24.926302Z",
     "shell.execute_reply": "2025-09-05T08:02:24.926027Z"
    }
   },
   "outputs": [
    {
     "name": "stdout",
     "output_type": "stream",
     "text": [
      "✅ Conversion function ready\n"
     ]
    }
   ],
   "source": [
    "def convert_csv_to_parquet():\n",
    "    \"\"\"\n",
    "    Main conversion function: Execute streaming CSV to Parquet conversion\n",
    "    \"\"\"\n",
    "    print(\"🚀 Starting CSV to Parquet conversion...\")\n",
    "    start_time = time.time()\n",
    "    \n",
    "    # Initialize variables\n",
    "    total_rows = 0\n",
    "    chunk_count = 0\n",
    "    writer = None\n",
    "    \n",
    "    try:\n",
    "        # Create progress bar using tqdm\n",
    "        # First estimate total row count\n",
    "        print(\"📊 Estimating file row count...\")\n",
    "        with open(INPUT_CSV, 'r', encoding='utf-8') as f:\n",
    "            total_lines = sum(1 for _ in f) - 1  # Subtract header row\n",
    "        print(f\"📈 Estimated total rows: {total_lines:,}\")\n",
    "        \n",
    "        # Create progress bar\n",
    "        pbar = tqdm(total=total_lines, desc=\"Conversion Progress\", unit=\"rows\")\n",
    "        \n",
    "        # Stream read CSV file\n",
    "        csv_reader = pd.read_csv(\n",
    "            INPUT_CSV,\n",
    "            chunksize=CHUNK_SIZE,\n",
    "            low_memory=False,\n",
    "            dtype='str'  # Read as strings first, optimize types later\n",
    "        )\n",
    "        \n",
    "        for chunk in csv_reader:\n",
    "            chunk_count += 1\n",
    "            chunk_start = time.time()\n",
    "            \n",
    "            # Preprocess current chunk\n",
    "            chunk = preprocess_chunk(chunk)\n",
    "            \n",
    "            # Convert to Arrow table\n",
    "            table = pa.Table.from_pandas(chunk, preserve_index=False)\n",
    "            \n",
    "            # Initialize writer (only on first iteration)\n",
    "            if writer is None:\n",
    "                writer = pq.ParquetWriter(\n",
    "                    OUTPUT_PARQUET,\n",
    "                    table.schema,\n",
    "                    compression=COMPRESSION\n",
    "                )\n",
    "                print(f\"📝 Created Parquet writer, Schema: {len(table.schema)} columns\")\n",
    "            \n",
    "            # Write current chunk\n",
    "            writer.write_table(table)\n",
    "            \n",
    "            # Update statistics\n",
    "            rows_in_chunk = len(chunk)\n",
    "            total_rows += rows_in_chunk\n",
    "            pbar.update(rows_in_chunk)\n",
    "            \n",
    "            # Memory cleanup\n",
    "            del chunk, table\n",
    "            gc.collect()\n",
    "            \n",
    "            # Display progress information\n",
    "            chunk_time = time.time() - chunk_start\n",
    "            elapsed = time.time() - start_time\n",
    "            \n",
    "            if chunk_count % 10 == 0:  # Show detailed info every 10 chunks\n",
    "                avg_time_per_chunk = elapsed / chunk_count\n",
    "                estimated_remaining = (total_lines - total_rows) / CHUNK_SIZE * avg_time_per_chunk\n",
    "                \n",
    "                pbar.set_postfix({\n",
    "                    'chunk': chunk_count,\n",
    "                    'total': f'{total_rows:,}',\n",
    "                    'eta': f'{estimated_remaining/60:.1f}min'\n",
    "                })\n",
    "        \n",
    "        # Close writer\n",
    "        if writer:\n",
    "            writer.close()\n",
    "        \n",
    "        pbar.close()\n",
    "        \n",
    "        # Completion statistics\n",
    "        total_time = time.time() - start_time\n",
    "        output_size_gb = OUTPUT_PARQUET.stat().st_size / (1024**3)\n",
    "        compression_ratio = (1 - output_size_gb / file_size_gb) * 100\n",
    "        \n",
    "        print(\"\\n🎉 Conversion completed!\")\n",
    "        print(f\"📊 Processing statistics:\")\n",
    "        print(f\"  ✅ Total rows: {total_rows:,}\")\n",
    "        print(f\"  ⏱️ Duration: {total_time/60:.1f} minutes\")\n",
    "        print(f\"  🚀 Speed: {total_rows/(total_time/60):,.0f} rows/minute\")\n",
    "        print(f\"  📦 Output size: {output_size_gb:.2f} GB\")\n",
    "        print(f\"  🗜️ Compression ratio: {compression_ratio:.1f}%\")\n",
    "        print(f\"  💾 Saved to: {OUTPUT_PARQUET}\")\n",
    "        \n",
    "        return True\n",
    "        \n",
    "    except Exception as e:\n",
    "        print(f\"❌ Error occurred during conversion: {e}\")\n",
    "        if writer:\n",
    "            writer.close()\n",
    "        return False\n",
    "\n",
    "print(\"✅ Conversion function ready\")\n"
   ]
  },
  {
   "cell_type": "code",
   "execution_count": 8,
   "metadata": {
    "execution": {
     "iopub.execute_input": "2025-09-05T08:02:24.927804Z",
     "iopub.status.busy": "2025-09-05T08:02:24.927700Z",
     "iopub.status.idle": "2025-09-05T08:02:47.330371Z",
     "shell.execute_reply": "2025-09-05T08:02:47.329977Z"
    }
   },
   "outputs": [
    {
     "name": "stdout",
     "output_type": "stream",
     "text": [
      "🚀 Starting CSV to Parquet conversion...\n",
      "📊 Estimating file row count...\n"
     ]
    },
    {
     "name": "stdout",
     "output_type": "stream",
     "text": [
      "📈 Estimated total rows: 30,112,802\n"
     ]
    },
    {
     "data": {
      "application/vnd.jupyter.widget-view+json": {
       "model_id": "45361eaa1a964249bac62858c6edca28",
       "version_major": 2,
       "version_minor": 0
      },
      "text/plain": [
       "Conversion Progress:   0%|          | 0/30112802 [00:00<?, ?rows/s]"
      ]
     },
     "metadata": {},
     "output_type": "display_data"
    },
    {
     "name": "stdout",
     "output_type": "stream",
     "text": [
      "❌ Error occurred during conversion: Error tokenizing data. C error: Expected 16 fields in line 2769, saw 17\n",
      "\n",
      "\n",
      "💥 Conversion encountered issues, please check error messages\n"
     ]
    }
   ],
   "source": [
    "# Execute conversion\n",
    "success = convert_csv_to_parquet()\n",
    "\n",
    "if success:\n",
    "    print(\"\\n🎊 CSV to Parquet conversion completed successfully!\")\n",
    "else:\n",
    "    print(\"\\n💥 Conversion encountered issues, please check error messages\")\n"
   ]
  },
  {
   "cell_type": "markdown",
   "metadata": {},
   "source": [
    "## 🔍 Conversion Result Validation\n"
   ]
  },
  {
   "cell_type": "code",
   "execution_count": 9,
   "metadata": {
    "execution": {
     "iopub.execute_input": "2025-09-05T08:02:47.332432Z",
     "iopub.status.busy": "2025-09-05T08:02:47.332283Z",
     "iopub.status.idle": "2025-09-05T08:02:47.335965Z",
     "shell.execute_reply": "2025-09-05T08:02:47.335621Z"
    }
   },
   "outputs": [
    {
     "name": "stdout",
     "output_type": "stream",
     "text": [
      "❌ Parquet file does not exist, conversion may have failed.\n"
     ]
    }
   ],
   "source": [
    "# Verify conversion results\n",
    "if OUTPUT_PARQUET.exists():\n",
    "    print(\"🔍 Validating conversion results...\")\n",
    "    \n",
    "    # Read Parquet file information\n",
    "    parquet_file = pq.ParquetFile(OUTPUT_PARQUET)\n",
    "    \n",
    "    print(f\"📊 Parquet file information:\")\n",
    "    print(f\"  📝 Schema: {len(parquet_file.schema)} columns\")\n",
    "    print(f\"  📦 Row groups: {parquet_file.num_row_groups}\")\n",
    "    print(f\"  📈 Total rows: {parquet_file.metadata.num_rows:,}\")\n",
    "    \n",
    "    # Display Schema\n",
    "    print(f\"\\n📋 Data structure:\")\n",
    "    for i, field in enumerate(parquet_file.schema):\n",
    "        print(f\"  {i+1:2d}. {field.name} ({field.type})\")\n",
    "    \n",
    "    # Read sample data for validation\n",
    "    print(f\"\\n🔬 Sample data validation:\")\n",
    "    sample_data = pd.read_parquet(OUTPUT_PARQUET, engine='pyarrow').head(3)\n",
    "    display(sample_data)\n",
    "    \n",
    "    # Data type check\n",
    "    print(f\"\\n📋 Data types:\")\n",
    "    print(sample_data.dtypes)\n",
    "    \n",
    "    print(\"\\n✅ Validation completed! Parquet file generated successfully with complete data.\")\n",
    "else:\n",
    "    print(\"❌ Parquet file does not exist, conversion may have failed.\")\n"
   ]
  },
  {
   "cell_type": "markdown",
   "metadata": {},
   "source": [
    "## 📈 Performance Comparison Analysis\n"
   ]
  },
  {
   "cell_type": "code",
   "execution_count": 10,
   "metadata": {
    "execution": {
     "iopub.execute_input": "2025-09-05T08:02:47.337450Z",
     "iopub.status.busy": "2025-09-05T08:02:47.337352Z",
     "iopub.status.idle": "2025-09-05T08:02:47.340678Z",
     "shell.execute_reply": "2025-09-05T08:02:47.340368Z"
    }
   },
   "outputs": [],
   "source": [
    "# Performance comparison test\n",
    "if OUTPUT_PARQUET.exists():\n",
    "    print(\"⚡ Conducting performance comparison test...\")\n",
    "    \n",
    "    # Test reading speed\n",
    "    print(\"\\n📖 Reading speed test (first 10,000 rows):\")\n",
    "    \n",
    "    # CSV reading test\n",
    "    start = time.time()\n",
    "    csv_sample = pd.read_csv(INPUT_CSV, nrows=10000)\n",
    "    csv_time = time.time() - start\n",
    "    print(f\"  📄 CSV reading: {csv_time:.3f} seconds\")\n",
    "    \n",
    "    # Parquet reading test\n",
    "    start = time.time()\n",
    "    parquet_sample = pd.read_parquet(OUTPUT_PARQUET).head(10000)\n",
    "    parquet_time = time.time() - start\n",
    "    print(f\"  📦 Parquet reading: {parquet_time:.3f} seconds\")\n",
    "    \n",
    "    # Calculate performance improvement\n",
    "    speedup = csv_time / parquet_time\n",
    "    print(f\"  🚀 Performance improvement: {speedup:.1f}x\")\n",
    "    \n",
    "    # File size comparison\n",
    "    csv_size = INPUT_CSV.stat().st_size / (1024**3)\n",
    "    parquet_size = OUTPUT_PARQUET.stat().st_size / (1024**3)\n",
    "    \n",
    "    print(f\"\\n💾 Storage efficiency comparison:\")\n",
    "    print(f\"  📄 CSV size: {csv_size:.2f} GB\")\n",
    "    print(f\"  📦 Parquet size: {parquet_size:.2f} GB\")\n",
    "    print(f\"  🗜️ Compression ratio: {(1-parquet_size/csv_size)*100:.1f}%\")\n",
    "    print(f\"  💰 Storage saved: {csv_size-parquet_size:.2f} GB\")\n"
   ]
  },
  {
   "cell_type": "markdown",
   "metadata": {},
   "source": [
    "## 📋 Usage Instructions & Next Steps\n"
   ]
  },
  {
   "cell_type": "markdown",
   "metadata": {},
   "source": [
    "### 🎯 Post-Conversion Usage Recommendations\n",
    "\n",
    "1. **Data Exploration**: Now you can use existing analysis scripts\n",
    "   ```python\n",
    "   # Run from project root directory\n",
    "   python scripts/03_analysis/judge_creator.py\n",
    "   python scripts/04_processing/result_GlotLID.py\n",
    "   ```\n",
    "\n",
    "2. **Author Field Analysis**: For intelligent author parsing (requires API setup)\n",
    "   ```python\n",
    "   python scripts/04_processing/LLM_name_detect.py\n",
    "   ```\n",
    "\n",
    "3. **Data Validation**: Run quality checks\n",
    "   ```python\n",
    "   python scripts/05_validation/start_validation.py\n",
    "   ```\n",
    "\n",
    "### 📂 File Management\n",
    "- ✅ Original CSV file: `data/raw/articleInfo.csv` (retained as backup)\n",
    "- ✅ Conversion result: `data/processed/articleInfo.parquet` (use for subsequent analysis)\n",
    "- 📝 This Notebook: `notebooks/01_data_conversion/csv_to_parquet_converter.ipynb`\n",
    "\n",
    "### 🔄 Reproducibility Instructions\n",
    "To reproduce this conversion process:\n",
    "1. Ensure required dependencies are installed in your environment\n",
    "2. Run all cells in this notebook sequentially\n",
    "3. Conversion results will be automatically saved to the specified location\n",
    "\n",
    "### 🚀 Integration with Existing Pipeline\n",
    "\n",
    "The converted Parquet file is now fully compatible with the existing InvisibleResearch data processing pipeline:\n",
    "\n",
    "- **Streaming Processing**: Optimized for large-scale data analysis\n",
    "- **Memory Efficiency**: Reduced memory footprint for analysis\n",
    "- **Type Safety**: Proper data types ensure reliable downstream processing\n",
    "- **Performance**: 3-10x faster query and analysis performance\n",
    "\n",
    "---\n",
    "**✅ Conversion task completed! You can now begin your data exploration journey.**\n"
   ]
  },
  {
   "cell_type": "markdown",
   "metadata": {},
   "source": []
  }
 ],
 "metadata": {
  "kernelspec": {
   "display_name": ".venv",
   "language": "python",
   "name": "python3"
  },
  "language_info": {
   "codemirror_mode": {
    "name": "ipython",
    "version": 3
   },
   "file_extension": ".py",
   "mimetype": "text/x-python",
   "name": "python",
   "nbconvert_exporter": "python",
   "pygments_lexer": "ipython3",
   "version": "3.11.10"
  },
  "widgets": {
   "application/vnd.jupyter.widget-state+json": {
    "state": {
     "0fa8c01c1b3e4420a2b27dad3ff193f3": {
      "model_module": "@jupyter-widgets/base",
      "model_module_version": "2.0.0",
      "model_name": "LayoutModel",
      "state": {
       "_model_module": "@jupyter-widgets/base",
       "_model_module_version": "2.0.0",
       "_model_name": "LayoutModel",
       "_view_count": null,
       "_view_module": "@jupyter-widgets/base",
       "_view_module_version": "2.0.0",
       "_view_name": "LayoutView",
       "align_content": null,
       "align_items": null,
       "align_self": null,
       "border_bottom": null,
       "border_left": null,
       "border_right": null,
       "border_top": null,
       "bottom": null,
       "display": null,
       "flex": null,
       "flex_flow": null,
       "grid_area": null,
       "grid_auto_columns": null,
       "grid_auto_flow": null,
       "grid_auto_rows": null,
       "grid_column": null,
       "grid_gap": null,
       "grid_row": null,
       "grid_template_areas": null,
       "grid_template_columns": null,
       "grid_template_rows": null,
       "height": null,
       "justify_content": null,
       "justify_items": null,
       "left": null,
       "margin": null,
       "max_height": null,
       "max_width": null,
       "min_height": null,
       "min_width": null,
       "object_fit": null,
       "object_position": null,
       "order": null,
       "overflow": null,
       "padding": null,
       "right": null,
       "top": null,
       "visibility": null,
       "width": null
      }
     },
     "378d9b138a9444489e84d31eff3e512b": {
      "model_module": "@jupyter-widgets/controls",
      "model_module_version": "2.0.0",
      "model_name": "ProgressStyleModel",
      "state": {
       "_model_module": "@jupyter-widgets/controls",
       "_model_module_version": "2.0.0",
       "_model_name": "ProgressStyleModel",
       "_view_count": null,
       "_view_module": "@jupyter-widgets/base",
       "_view_module_version": "2.0.0",
       "_view_name": "StyleView",
       "bar_color": null,
       "description_width": ""
      }
     },
     "45361eaa1a964249bac62858c6edca28": {
      "model_module": "@jupyter-widgets/controls",
      "model_module_version": "2.0.0",
      "model_name": "HBoxModel",
      "state": {
       "_dom_classes": [],
       "_model_module": "@jupyter-widgets/controls",
       "_model_module_version": "2.0.0",
       "_model_name": "HBoxModel",
       "_view_count": null,
       "_view_module": "@jupyter-widgets/controls",
       "_view_module_version": "2.0.0",
       "_view_name": "HBoxView",
       "box_style": "",
       "children": [
        "IPY_MODEL_595e239f1f2846f0a2d67855c11292b7",
        "IPY_MODEL_85616e9770034440849a5424e51fbcd9",
        "IPY_MODEL_8e76f2df0cf0443fa0424fab7da0355e"
       ],
       "layout": "IPY_MODEL_69f5590a5fa84b11824a59c131a2c7f6",
       "tabbable": null,
       "tooltip": null
      }
     },
     "595e239f1f2846f0a2d67855c11292b7": {
      "model_module": "@jupyter-widgets/controls",
      "model_module_version": "2.0.0",
      "model_name": "HTMLModel",
      "state": {
       "_dom_classes": [],
       "_model_module": "@jupyter-widgets/controls",
       "_model_module_version": "2.0.0",
       "_model_name": "HTMLModel",
       "_view_count": null,
       "_view_module": "@jupyter-widgets/controls",
       "_view_module_version": "2.0.0",
       "_view_name": "HTMLView",
       "description": "",
       "description_allow_html": false,
       "layout": "IPY_MODEL_5f7faffa10514e2797b726a051fa8c6c",
       "placeholder": "​",
       "style": "IPY_MODEL_e50373f5171e47d3aec54f4bc6da0603",
       "tabbable": null,
       "tooltip": null,
       "value": "Conversion Progress:   0%"
      }
     },
     "5f7faffa10514e2797b726a051fa8c6c": {
      "model_module": "@jupyter-widgets/base",
      "model_module_version": "2.0.0",
      "model_name": "LayoutModel",
      "state": {
       "_model_module": "@jupyter-widgets/base",
       "_model_module_version": "2.0.0",
       "_model_name": "LayoutModel",
       "_view_count": null,
       "_view_module": "@jupyter-widgets/base",
       "_view_module_version": "2.0.0",
       "_view_name": "LayoutView",
       "align_content": null,
       "align_items": null,
       "align_self": null,
       "border_bottom": null,
       "border_left": null,
       "border_right": null,
       "border_top": null,
       "bottom": null,
       "display": null,
       "flex": null,
       "flex_flow": null,
       "grid_area": null,
       "grid_auto_columns": null,
       "grid_auto_flow": null,
       "grid_auto_rows": null,
       "grid_column": null,
       "grid_gap": null,
       "grid_row": null,
       "grid_template_areas": null,
       "grid_template_columns": null,
       "grid_template_rows": null,
       "height": null,
       "justify_content": null,
       "justify_items": null,
       "left": null,
       "margin": null,
       "max_height": null,
       "max_width": null,
       "min_height": null,
       "min_width": null,
       "object_fit": null,
       "object_position": null,
       "order": null,
       "overflow": null,
       "padding": null,
       "right": null,
       "top": null,
       "visibility": null,
       "width": null
      }
     },
     "69f5590a5fa84b11824a59c131a2c7f6": {
      "model_module": "@jupyter-widgets/base",
      "model_module_version": "2.0.0",
      "model_name": "LayoutModel",
      "state": {
       "_model_module": "@jupyter-widgets/base",
       "_model_module_version": "2.0.0",
       "_model_name": "LayoutModel",
       "_view_count": null,
       "_view_module": "@jupyter-widgets/base",
       "_view_module_version": "2.0.0",
       "_view_name": "LayoutView",
       "align_content": null,
       "align_items": null,
       "align_self": null,
       "border_bottom": null,
       "border_left": null,
       "border_right": null,
       "border_top": null,
       "bottom": null,
       "display": null,
       "flex": null,
       "flex_flow": null,
       "grid_area": null,
       "grid_auto_columns": null,
       "grid_auto_flow": null,
       "grid_auto_rows": null,
       "grid_column": null,
       "grid_gap": null,
       "grid_row": null,
       "grid_template_areas": null,
       "grid_template_columns": null,
       "grid_template_rows": null,
       "height": null,
       "justify_content": null,
       "justify_items": null,
       "left": null,
       "margin": null,
       "max_height": null,
       "max_width": null,
       "min_height": null,
       "min_width": null,
       "object_fit": null,
       "object_position": null,
       "order": null,
       "overflow": null,
       "padding": null,
       "right": null,
       "top": null,
       "visibility": null,
       "width": null
      }
     },
     "85616e9770034440849a5424e51fbcd9": {
      "model_module": "@jupyter-widgets/controls",
      "model_module_version": "2.0.0",
      "model_name": "FloatProgressModel",
      "state": {
       "_dom_classes": [],
       "_model_module": "@jupyter-widgets/controls",
       "_model_module_version": "2.0.0",
       "_model_name": "FloatProgressModel",
       "_view_count": null,
       "_view_module": "@jupyter-widgets/controls",
       "_view_module_version": "2.0.0",
       "_view_name": "ProgressView",
       "bar_style": "",
       "description": "",
       "description_allow_html": false,
       "layout": "IPY_MODEL_0fa8c01c1b3e4420a2b27dad3ff193f3",
       "max": 30112802.0,
       "min": 0.0,
       "orientation": "horizontal",
       "style": "IPY_MODEL_378d9b138a9444489e84d31eff3e512b",
       "tabbable": null,
       "tooltip": null,
       "value": 0.0
      }
     },
     "8e76f2df0cf0443fa0424fab7da0355e": {
      "model_module": "@jupyter-widgets/controls",
      "model_module_version": "2.0.0",
      "model_name": "HTMLModel",
      "state": {
       "_dom_classes": [],
       "_model_module": "@jupyter-widgets/controls",
       "_model_module_version": "2.0.0",
       "_model_name": "HTMLModel",
       "_view_count": null,
       "_view_module": "@jupyter-widgets/controls",
       "_view_module_version": "2.0.0",
       "_view_name": "HTMLView",
       "description": "",
       "description_allow_html": false,
       "layout": "IPY_MODEL_a799b4e1560a48019c5ce3526df34729",
       "placeholder": "​",
       "style": "IPY_MODEL_b9f8cdbd2adf41f6b20ad2a09f56a428",
       "tabbable": null,
       "tooltip": null,
       "value": " 0/30112802 [00:00&lt;?, ?rows/s]"
      }
     },
     "a799b4e1560a48019c5ce3526df34729": {
      "model_module": "@jupyter-widgets/base",
      "model_module_version": "2.0.0",
      "model_name": "LayoutModel",
      "state": {
       "_model_module": "@jupyter-widgets/base",
       "_model_module_version": "2.0.0",
       "_model_name": "LayoutModel",
       "_view_count": null,
       "_view_module": "@jupyter-widgets/base",
       "_view_module_version": "2.0.0",
       "_view_name": "LayoutView",
       "align_content": null,
       "align_items": null,
       "align_self": null,
       "border_bottom": null,
       "border_left": null,
       "border_right": null,
       "border_top": null,
       "bottom": null,
       "display": null,
       "flex": null,
       "flex_flow": null,
       "grid_area": null,
       "grid_auto_columns": null,
       "grid_auto_flow": null,
       "grid_auto_rows": null,
       "grid_column": null,
       "grid_gap": null,
       "grid_row": null,
       "grid_template_areas": null,
       "grid_template_columns": null,
       "grid_template_rows": null,
       "height": null,
       "justify_content": null,
       "justify_items": null,
       "left": null,
       "margin": null,
       "max_height": null,
       "max_width": null,
       "min_height": null,
       "min_width": null,
       "object_fit": null,
       "object_position": null,
       "order": null,
       "overflow": null,
       "padding": null,
       "right": null,
       "top": null,
       "visibility": null,
       "width": null
      }
     },
     "b9f8cdbd2adf41f6b20ad2a09f56a428": {
      "model_module": "@jupyter-widgets/controls",
      "model_module_version": "2.0.0",
      "model_name": "HTMLStyleModel",
      "state": {
       "_model_module": "@jupyter-widgets/controls",
       "_model_module_version": "2.0.0",
       "_model_name": "HTMLStyleModel",
       "_view_count": null,
       "_view_module": "@jupyter-widgets/base",
       "_view_module_version": "2.0.0",
       "_view_name": "StyleView",
       "background": null,
       "description_width": "",
       "font_size": null,
       "text_color": null
      }
     },
     "e50373f5171e47d3aec54f4bc6da0603": {
      "model_module": "@jupyter-widgets/controls",
      "model_module_version": "2.0.0",
      "model_name": "HTMLStyleModel",
      "state": {
       "_model_module": "@jupyter-widgets/controls",
       "_model_module_version": "2.0.0",
       "_model_name": "HTMLStyleModel",
       "_view_count": null,
       "_view_module": "@jupyter-widgets/base",
       "_view_module_version": "2.0.0",
       "_view_name": "StyleView",
       "background": null,
       "description_width": "",
       "font_size": null,
       "text_color": null
      }
     }
    },
    "version_major": 2,
    "version_minor": 0
   }
  }
 },
 "nbformat": 4,
 "nbformat_minor": 2
}
